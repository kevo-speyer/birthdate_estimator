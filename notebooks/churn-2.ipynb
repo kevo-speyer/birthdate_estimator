{
 "cells": [
  {
   "cell_type": "code",
   "execution_count": null,
   "id": "048d82e2",
   "metadata": {},
   "outputs": [],
   "source": [
    "import pandas as pd\n",
    "import numpy as np\n",
    "import sklearn\n",
    "import matplotlib.pyplot as plt\n",
    "import datetime as dt\n",
    "import pickle\n",
    "from utils import fractional_years\n",
    "from predcit import Predictor\n",
    "pd.set_option(\"display.max_columns\", None)"
   ]
  },
  {
   "cell_type": "markdown",
   "id": "efae0b26",
   "metadata": {},
   "source": [
    "## Load Data"
   ]
  },
  {
   "cell_type": "code",
   "execution_count": null,
   "id": "d564133e",
   "metadata": {},
   "outputs": [],
   "source": [
    "data_path = '../data'\n",
    "df_raw = pd.read_excel(f'{data_path}/inscriptos_2018_4_6.xlsx')"
   ]
  },
  {
   "cell_type": "markdown",
   "id": "4c0f1ec8",
   "metadata": {},
   "source": [
    "### Enrich with estimated bday from DNI"
   ]
  },
  {
   "cell_type": "code",
   "execution_count": null,
   "id": "7bf2e799",
   "metadata": {},
   "outputs": [],
   "source": [
    "model_info = {\"location\": \"filesystem\", \"path\": \"./\", \"filename\":\"mega_spline_model.pickle\"}\n",
    "bday_predictor = Predictor(model_info)\n",
    "df_raw['estimated_bday'] = np.array(bday_predictor.predict(df_raw.nrodocumento.values.reshape(-1, 1)))"
   ]
  },
  {
   "cell_type": "code",
   "execution_count": null,
   "id": "7e27c788",
   "metadata": {},
   "outputs": [],
   "source": [
    "df_raw['estimated_age'] = (df_raw.FechaCpte - df_raw.estimated_bday).apply(lambda td: td.days/365.25)"
   ]
  },
  {
   "cell_type": "markdown",
   "id": "9e75defd",
   "metadata": {},
   "source": [
    "### Enrich with foreigner from DNI"
   ]
  },
  {
   "cell_type": "code",
   "execution_count": null,
   "id": "3815d89e",
   "metadata": {},
   "outputs": [],
   "source": [
    "df_raw['foreigner'] = df_raw.nrodocumento>90e6"
   ]
  },
  {
   "cell_type": "markdown",
   "id": "5095ecb1",
   "metadata": {},
   "source": [
    "### Enrich with course start date"
   ]
  },
  {
   "cell_type": "code",
   "execution_count": null,
   "id": "99fe3243",
   "metadata": {},
   "outputs": [],
   "source": [
    "df_start_date = pd.read_csv(f'{data_path}/fecha_inicio_clases.csv')\n",
    "df_start_date['end_inscr_date'] = df_start_date.fecha_fin_insripcion_estimada.apply(lambda x: dt.datetime.strptime(x,'%Y-%m-%d'))\n",
    "df_start_date['start_course_date'] = df_start_date.fecha_inicio_cursada.apply(lambda x: dt.datetime.strptime(x,'%d/%m/%Y'))\n",
    "df_start_date.drop(columns=['fecha_fin_insripcion_estimada','fecha_inicio_cursada','Unnamed: 3'],inplace=True)"
   ]
  },
  {
   "cell_type": "code",
   "execution_count": null,
   "id": "02bb06d9",
   "metadata": {},
   "outputs": [],
   "source": [
    "df_raw = df_raw.merge(df_start_date, on='anioperi')\n",
    "df_raw['start_course_to_inscr_days'] = ((df_raw['start_course_date']-df_raw['FechaCpte'])/(24*60*60*1e9)).astype(int)\n",
    "df_raw['end_inscr_to_inscr_days'] = ((df_raw['end_inscr_date']-df_raw['FechaCpte'])/(24*60*60*1e9)).astype(int)\n",
    "df_raw.drop(columns=['end_inscr_date','start_course_date'],inplace=True)"
   ]
  },
  {
   "cell_type": "code",
   "execution_count": null,
   "id": "619a0010",
   "metadata": {},
   "outputs": [],
   "source": [
    "df_raw"
   ]
  },
  {
   "cell_type": "markdown",
   "id": "330d11ff",
   "metadata": {},
   "source": [
    "### Enrich with history\n",
    "Past churns, past completed courses, proff historic churn\n"
   ]
  },
  {
   "cell_type": "code",
   "execution_count": null,
   "id": "3b1b4957",
   "metadata": {},
   "outputs": [],
   "source": [
    "df_raw[df_raw.Anio_id==2022].bajadeasistencia.value_counts()"
   ]
  },
  {
   "cell_type": "code",
   "execution_count": null,
   "id": "af86c3f7",
   "metadata": {},
   "outputs": [],
   "source": [
    "df_raw['year'] = df_raw['anioperi'].apply(lambda x: int(x.split('-')[0]))\n",
    "df_raw['period'] = df_raw['anioperi'].apply(lambda x: int(x.split('-')[1]))\n",
    "df_enr = df_raw.merge(df_raw,on='nrodocumento')"
   ]
  },
  {
   "cell_type": "code",
   "execution_count": null,
   "id": "30c23f07",
   "metadata": {},
   "outputs": [],
   "source": [
    "c1 = (df_enr['year_x']==df_enr['year_y'])&(df_enr['period_x']>df_enr['period_y'])\n",
    "c2 = df_enr['year_x']>df_enr['year_y']\n",
    "df_enr = df_enr[c1|c2]"
   ]
  },
  {
   "cell_type": "code",
   "execution_count": null,
   "id": "6e43a150",
   "metadata": {},
   "outputs": [],
   "source": [
    "df_enr.tail()#[df_enr.nrodocumento==36406220.0]"
   ]
  },
  {
   "cell_type": "code",
   "execution_count": null,
   "id": "ffee7226",
   "metadata": {},
   "outputs": [],
   "source": [
    "df_enr[df_enr.nrodocumento==42496842.0]"
   ]
  },
  {
   "cell_type": "markdown",
   "id": "01a7359d",
   "metadata": {},
   "source": [
    "### Enrich with convenio"
   ]
  },
  {
   "cell_type": "code",
   "execution_count": null,
   "id": "9288f683",
   "metadata": {},
   "outputs": [],
   "source": [
    "df_raw['con_convenio'] = df_raw.convenio!=df_raw.convenio.value_counts().index[0]"
   ]
  },
  {
   "cell_type": "markdown",
   "id": "f5ece3a6",
   "metadata": {},
   "source": [
    "### Drop Incomplete semester"
   ]
  },
  {
   "cell_type": "code",
   "execution_count": null,
   "id": "b278e659",
   "metadata": {},
   "outputs": [],
   "source": [
    "df_raw = df_raw[df_raw['Anio_id']<2022]"
   ]
  },
  {
   "cell_type": "markdown",
   "id": "da03ce1b",
   "metadata": {},
   "source": [
    "### Drop unused columns"
   ]
  },
  {
   "cell_type": "code",
   "execution_count": null,
   "id": "15421da9",
   "metadata": {},
   "outputs": [],
   "source": [
    "drop_cols_1 = [\"anioperi\",\"cursointerno_id\",\"FechaCpte\",\"nrodocumento\",\"Alumno_id\",\"Sede_id\",\"nombre\",\"Anio_id\",\n",
    "\"descnivel\",\"cursodenivel\",\"esidiomaonline\",\"descsedefis\",\"pais_id\",\"nombpais\",\"provincia_id\",\"nombpcia\",\"localidad_ubi\",\"FechaNacimiento\"]"
   ]
  },
  {
   "cell_type": "code",
   "execution_count": null,
   "id": "fb01c517",
   "metadata": {},
   "outputs": [],
   "source": [
    "drop_cols_2 = [\"edad\",  # dirty column replaced by estimated_age  \n",
    "               \"estimated_bday\", # estimated_age has the relevant info\n",
    "               \"nivel_id\",  # Combination of \"idioma_id\",\"grado\",\"TipoDeNivel\"\n",
    "              ]"
   ]
  },
  {
   "cell_type": "code",
   "execution_count": null,
   "id": "5103a273",
   "metadata": {},
   "outputs": [],
   "source": [
    "drop_cols_1.extend(drop_cols_2)"
   ]
  },
  {
   "cell_type": "markdown",
   "id": "d62411f7",
   "metadata": {},
   "source": [
    "### Columns with high cardinality"
   ]
  },
  {
   "cell_type": "code",
   "execution_count": null,
   "id": "0c3ca62f",
   "metadata": {},
   "outputs": [],
   "source": [
    "high_cardinality_cols = [\"convenio\",\"esidiomaic\",\"nombprof\"]"
   ]
  },
  {
   "cell_type": "code",
   "execution_count": null,
   "id": "5189fd73",
   "metadata": {},
   "outputs": [],
   "source": [
    "df = df_raw.drop(columns=drop_cols_1)"
   ]
  },
  {
   "cell_type": "markdown",
   "id": "19d0691d",
   "metadata": {},
   "source": [
    "### Try with LightGBM - NO One Hot Encoding"
   ]
  },
  {
   "cell_type": "code",
   "execution_count": null,
   "id": "4e5888e3",
   "metadata": {},
   "outputs": [],
   "source": [
    "# Set type of categorical variables so LGBM can predict\n",
    "is_object = df.dtypes=='object'\n",
    "for feat in is_object[is_object==True].index.values:\n",
    "    df[feat] = df[feat].astype('category')\n",
    "    \n",
    "int_attrs = ['Periodo_id','grado','bajadeasistencia','esidiomaic','EsUba','Nuevo']\n",
    "for attr in int_attrs:\n",
    "    df[attr] = df[attr].astype(int)\n",
    "    \n",
    "scale_cols = [\"start_course_to_inscr_days\",\"estimated_age\",\"end_inscr_to_inscr_days\"]\n",
    "label_encoded_cols = [\"Descripcion\",\"idioma_id\",\"deschora\",\"convenio\",\"TipoDeNivel\",\"Sexo\",\"Cursada_id\",\"nombprof\"]\n",
    "\n",
    "for attr in label_encoded_cols:\n",
    "    df[attr] = df[attr].astype(str)\n",
    "    df[attr] = df[attr].astype(str)\n",
    "    \n",
    "all_columns = list(df.columns.values)\n",
    "all_columns.remove('bajadeasistencia')"
   ]
  },
  {
   "cell_type": "code",
   "execution_count": null,
   "id": "458d1bf5",
   "metadata": {},
   "outputs": [],
   "source": [
    "class columnDropperTransformer():\n",
    "    def __init__(self,columns):\n",
    "        self.columns=columns\n",
    "\n",
    "    def transform(self,X,y=None):\n",
    "        return X.drop(self.columns,axis=1)\n",
    "\n",
    "    def fit(self, X, y=None):\n",
    "        return self "
   ]
  },
  {
   "cell_type": "code",
   "execution_count": null,
   "id": "4b3e6622",
   "metadata": {},
   "outputs": [],
   "source": [
    "# Split Train and Test\n",
    "label = 'bajadeasistencia'\n",
    "y = df[label].astype('int')\n",
    "X = df.drop(columns=[label])\n",
    "X_train, X_test, y_train, y_test = sklearn.model_selection.train_test_split(X, y, test_size=0.2)"
   ]
  },
  {
   "cell_type": "code",
   "execution_count": null,
   "id": "50a43ffe",
   "metadata": {
    "scrolled": false
   },
   "outputs": [],
   "source": [
    "from sklearn.pipeline import Pipeline\n",
    "from sklearn.preprocessing import StandardScaler, LabelEncoder, OrdinalEncoder, OneHotEncoder\n",
    "from lightgbm import LGBMClassifier\n",
    "from sklearn.compose import ColumnTransformer\n",
    "from xgboost import XGBClassifier\n",
    "\n",
    "def full_model(remaining_cols, all_cols):\n",
    "    xgmodel = XGBClassifier(eta=0.3, gamma=0.2, max_depth=5, subsample=0.5,reg_alpha=10,reg_lambda=0)\n",
    "    lgbm = LGBMClassifier(min_data_in_leaf=10,max_depth=-2,num_leaves=10,)\n",
    "\n",
    "    drop_cols = [c for c in all_cols if c not in remaining_cols]\n",
    "\n",
    "    present_label_encoded_cols = [c  for c in label_encoded_cols if c not in drop_cols]\n",
    "    present_scale_cols = [c  for c in scale_cols if c not in drop_cols]\n",
    "\n",
    "    ct = ColumnTransformer(\n",
    "    transformers=[\n",
    "        (\"scaler\", StandardScaler(), present_scale_cols),\n",
    "        (\"label_encoder\", OrdinalEncoder(handle_unknown='use_encoded_value',unknown_value=-1), present_label_encoded_cols)\n",
    "        #(\"1HotEncoder\", OneHotEncoder(drop='if_binary',handle_unknown='infrequent_if_exist',min_frequency=0.05), present_label_encoded_cols)\n",
    "    ],\n",
    "    remainder='passthrough'\n",
    "    )\n",
    "    pipe = Pipeline([\n",
    "                ('columnDropper', columnDropperTransformer(drop_cols)),\n",
    "                ('column_scaler', ct),\n",
    "                ('lgbm', lgbm)\n",
    "                #('xgb', xgmodel)\n",
    "                ])\n",
    "    return pipe\n"
   ]
  },
  {
   "cell_type": "code",
   "execution_count": null,
   "id": "d7442be7",
   "metadata": {
    "scrolled": false
   },
   "outputs": [],
   "source": [
    "# Add benchmark\n",
    "pipe = full_model(remaining_cols=all_columns, all_cols=all_columns)\n",
    "pipe.fit(X_train,y_train)\n",
    "max_auc = roc_auc_score(y_test, pipe.predict_proba(X_test)[:,1])\n",
    "\n",
    "auc = 0.0\n",
    "fixed_cols = []\n",
    "\n",
    "# Add best feature one at a time\n",
    "while auc<.99:\n",
    "    attr_score = {}\n",
    "    for attr in [c for c in all_columns if c not in fixed_cols]:\n",
    "        remaining_cols = fixed_cols+[attr]\n",
    "        pipe = full_model(remaining_cols=remaining_cols, all_cols=all_columns)\n",
    "        pipe.fit(X_train,y_train)\n",
    "        attr_score[tuple(remaining_cols)] = roc_auc_score(y_test, pipe.predict_proba(X_test)[:,1]) / max_auc\n",
    "\n",
    "    #Sort by score\n",
    "    attrs, auc = sorted(attr_score.items(), key=lambda item: item[1], reverse=True)[0]\n",
    "    fixed_cols = list(attrs) # Add best feature\n",
    "    print(fixed_cols, auc)"
   ]
  },
  {
   "cell_type": "code",
   "execution_count": null,
   "id": "258c891b",
   "metadata": {},
   "outputs": [],
   "source": []
  }
 ],
 "metadata": {
  "kernelspec": {
   "display_name": "Python 3 (ipykernel)",
   "language": "python",
   "name": "python3"
  },
  "language_info": {
   "codemirror_mode": {
    "name": "ipython",
    "version": 3
   },
   "file_extension": ".py",
   "mimetype": "text/x-python",
   "name": "python",
   "nbconvert_exporter": "python",
   "pygments_lexer": "ipython3",
   "version": "3.8.10"
  }
 },
 "nbformat": 4,
 "nbformat_minor": 5
}
