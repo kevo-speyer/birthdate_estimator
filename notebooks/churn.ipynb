{
 "cells": [
  {
   "cell_type": "code",
   "execution_count": null,
   "id": "048d82e2",
   "metadata": {},
   "outputs": [],
   "source": [
    "import pandas as pd\n",
    "import numpy as np\n",
    "import sklearn\n",
    "import matplotlib.pyplot as plt\n",
    "import datetime as dt\n",
    "import pickle\n",
    "from utils import fractional_years\n",
    "from predcit import Predictor\n",
    "pd.set_option(\"display.max_columns\", None)"
   ]
  },
  {
   "cell_type": "markdown",
   "id": "efae0b26",
   "metadata": {},
   "source": [
    "## Load Data"
   ]
  },
  {
   "cell_type": "code",
   "execution_count": null,
   "id": "d564133e",
   "metadata": {},
   "outputs": [],
   "source": [
    "data_path = '../data'\n",
    "df_raw = pd.read_excel(f'{data_path}/inscriptos_2018_4_6.xlsx')"
   ]
  },
  {
   "cell_type": "markdown",
   "id": "4c0f1ec8",
   "metadata": {},
   "source": [
    "### Enrich with estimated bday from DNI"
   ]
  },
  {
   "cell_type": "code",
   "execution_count": null,
   "id": "7bf2e799",
   "metadata": {},
   "outputs": [],
   "source": [
    "model_info = {\"location\": \"filesystem\", \"path\": \"./\", \"filename\":\"mega_spline_model.pickle\"}\n",
    "bday_predictor = Predictor(model_info)\n",
    "df_raw['estimated_bday'] = np.array(bday_predictor.predict(df_raw.nrodocumento.values.reshape(-1, 1)))"
   ]
  },
  {
   "cell_type": "code",
   "execution_count": null,
   "id": "7e27c788",
   "metadata": {},
   "outputs": [],
   "source": [
    "df_raw['estimated_age'] = (df_raw.FechaCpte - df_raw.estimated_bday).apply(lambda td: td.days/365.25)"
   ]
  },
  {
   "cell_type": "markdown",
   "id": "9e75defd",
   "metadata": {},
   "source": [
    "### Enrich with foreigner from DNI"
   ]
  },
  {
   "cell_type": "code",
   "execution_count": null,
   "id": "3815d89e",
   "metadata": {},
   "outputs": [],
   "source": [
    "df_raw['foreigner'] = df_raw.nrodocumento>90e6"
   ]
  },
  {
   "cell_type": "markdown",
   "id": "5095ecb1",
   "metadata": {},
   "source": [
    "### Enrich with course start date"
   ]
  },
  {
   "cell_type": "code",
   "execution_count": null,
   "id": "99fe3243",
   "metadata": {},
   "outputs": [],
   "source": [
    "df_start_date = pd.read_csv(f'{data_path}/fecha_inicio_clases.csv')\n",
    "df_start_date['end_inscr_date'] = df_start_date.fecha_fin_insripcion_estimada.apply(lambda x: dt.datetime.strptime(x,'%Y-%m-%d'))\n",
    "df_start_date['start_course_date'] = df_start_date.fecha_inicio_cursada.apply(lambda x: dt.datetime.strptime(x,'%d/%m/%Y'))\n",
    "df_start_date.drop(columns=['fecha_fin_insripcion_estimada','fecha_inicio_cursada','Unnamed: 3'],inplace=True)"
   ]
  },
  {
   "cell_type": "code",
   "execution_count": null,
   "id": "02bb06d9",
   "metadata": {},
   "outputs": [],
   "source": [
    "df_raw = df_raw.merge(df_start_date, on='anioperi')\n",
    "df_raw['start_course_to_inscr_days'] = ((df_raw['start_course_date']-df_raw['FechaCpte'])/(24*60*60*1e9)).astype(int)\n",
    "df_raw['end_inscr_to_inscr_days'] = ((df_raw['end_inscr_date']-df_raw['FechaCpte'])/(24*60*60*1e9)).astype(int)\n",
    "df_raw.drop(columns=['end_inscr_date','start_course_date'],inplace=True)"
   ]
  },
  {
   "cell_type": "code",
   "execution_count": null,
   "id": "619a0010",
   "metadata": {},
   "outputs": [],
   "source": [
    "df_raw"
   ]
  },
  {
   "cell_type": "markdown",
   "id": "330d11ff",
   "metadata": {},
   "source": [
    "### Enrich with history\n",
    "Past churns, past completed courses, proff historic churn\n"
   ]
  },
  {
   "cell_type": "code",
   "execution_count": null,
   "id": "3b1b4957",
   "metadata": {},
   "outputs": [],
   "source": [
    "df_raw[df_raw.Anio_id==2022].bajadeasistencia.value_counts()"
   ]
  },
  {
   "cell_type": "code",
   "execution_count": null,
   "id": "af86c3f7",
   "metadata": {},
   "outputs": [],
   "source": [
    "df_raw['year'] = df_raw['anioperi'].apply(lambda x: int(x.split('-')[0]))\n",
    "df_raw['period'] = df_raw['anioperi'].apply(lambda x: int(x.split('-')[1]))\n",
    "df_enr = df_raw.merge(df_raw,on='nrodocumento')"
   ]
  },
  {
   "cell_type": "code",
   "execution_count": null,
   "id": "30c23f07",
   "metadata": {},
   "outputs": [],
   "source": [
    "c1 = (df_enr['year_x']==df_enr['year_y'])&(df_enr['period_x']>df_enr['period_y'])\n",
    "c2 = df_enr['year_x']>df_enr['year_y']\n",
    "df_enr = df_enr[c1|c2]"
   ]
  },
  {
   "cell_type": "code",
   "execution_count": null,
   "id": "6e43a150",
   "metadata": {},
   "outputs": [],
   "source": [
    "df_enr.tail()#[df_enr.nrodocumento==36406220.0]"
   ]
  },
  {
   "cell_type": "code",
   "execution_count": null,
   "id": "ffee7226",
   "metadata": {},
   "outputs": [],
   "source": [
    "df_enr[df_enr.nrodocumento==42496842.0]"
   ]
  },
  {
   "cell_type": "markdown",
   "id": "01a7359d",
   "metadata": {},
   "source": [
    "### Enrich with convenio"
   ]
  },
  {
   "cell_type": "code",
   "execution_count": null,
   "id": "9288f683",
   "metadata": {},
   "outputs": [],
   "source": [
    "df_raw['con_convenio'] = df_raw.convenio!=df_raw.convenio.value_counts().index[0]"
   ]
  },
  {
   "cell_type": "markdown",
   "id": "f5ece3a6",
   "metadata": {},
   "source": [
    "### Drop Incomplete semester"
   ]
  },
  {
   "cell_type": "code",
   "execution_count": null,
   "id": "b278e659",
   "metadata": {},
   "outputs": [],
   "source": [
    "df_raw = df_raw[df_raw['Anio_id']<2022]"
   ]
  },
  {
   "cell_type": "markdown",
   "id": "da03ce1b",
   "metadata": {},
   "source": [
    "### Drop unused columns"
   ]
  },
  {
   "cell_type": "code",
   "execution_count": null,
   "id": "15421da9",
   "metadata": {},
   "outputs": [],
   "source": [
    "drop_cols_1 = [\"anioperi\",\"cursointerno_id\",\"FechaCpte\",\"nrodocumento\",\"Alumno_id\",\"Sede_id\",\"nombre\",\"Anio_id\",\n",
    "\"descnivel\",\"cursodenivel\",\"esidiomaonline\",\"descsedefis\",\"pais_id\",\"nombpais\",\"provincia_id\",\"nombpcia\",\"localidad_ubi\",\"FechaNacimiento\"]"
   ]
  },
  {
   "cell_type": "code",
   "execution_count": null,
   "id": "fb01c517",
   "metadata": {},
   "outputs": [],
   "source": [
    "drop_cols_2 = [\"edad\",  # dirty column replaced by estimated_age  \n",
    "               \"estimated_bday\", # estimated_age has the relevant info\n",
    "               \"nivel_id\",  # Combination of \"idioma_id\",\"grado\",\"TipoDeNivel\"\n",
    "              ]"
   ]
  },
  {
   "cell_type": "code",
   "execution_count": null,
   "id": "5103a273",
   "metadata": {},
   "outputs": [],
   "source": [
    "drop_cols_1.extend(drop_cols_2)"
   ]
  },
  {
   "cell_type": "markdown",
   "id": "d62411f7",
   "metadata": {},
   "source": [
    "### Columns with high cardinality"
   ]
  },
  {
   "cell_type": "code",
   "execution_count": null,
   "id": "0c3ca62f",
   "metadata": {},
   "outputs": [],
   "source": [
    "high_cardinality_cols = [\"convenio\",\"esidiomaic\",\"nombprof\"]"
   ]
  },
  {
   "cell_type": "code",
   "execution_count": null,
   "id": "5189fd73",
   "metadata": {},
   "outputs": [],
   "source": [
    "df = df_raw.drop(columns=drop_cols_1)"
   ]
  },
  {
   "cell_type": "markdown",
   "id": "19d0691d",
   "metadata": {},
   "source": [
    "### Try with LightGBM - NO One Hot Encoding"
   ]
  },
  {
   "cell_type": "code",
   "execution_count": null,
   "id": "4e5888e3",
   "metadata": {},
   "outputs": [],
   "source": [
    "# Set type of categorical variables so LGBM can predict\n",
    "is_object = df.dtypes=='object'\n",
    "for feat in is_object[is_object==True].index.values:\n",
    "    df[feat] = df[feat].astype('category')"
   ]
  },
  {
   "cell_type": "code",
   "execution_count": null,
   "id": "4b3e6622",
   "metadata": {},
   "outputs": [],
   "source": [
    "# Split Train and Test\n",
    "label = 'bajadeasistencia'\n",
    "y = df[label].astype('int')\n",
    "X = df.drop(columns=[label])\n",
    "X_train, X_test, y_train, y_test = sklearn.model_selection.train_test_split(X, y, test_size=0.4)"
   ]
  },
  {
   "cell_type": "code",
   "execution_count": null,
   "id": "231e651a",
   "metadata": {},
   "outputs": [],
   "source": [
    "# Set Hyperparameters and train\n",
    "from lightgbm import LGBMClassifier\n",
    "from sklearn.calibration import CalibratedClassifierCV\n",
    "\n",
    "lgbm = LGBMClassifier(min_data_in_leaf=10,max_depth=2,num_leaves=4,verbose_eval=1)\n",
    "#cal_lgbm = CalibratedClassifierCV(lgbm, cv=10, method='isotonic')\n",
    "cal_lgbm = CalibratedClassifierCV(lgbm, cv=5, method='sigmoid')\n",
    "lgbm.fit(X_train, y_train)\n",
    "cal_lgbm.fit(X_train, y_train)"
   ]
  },
  {
   "cell_type": "code",
   "execution_count": null,
   "id": "482d4f20",
   "metadata": {
    "scrolled": false
   },
   "outputs": [],
   "source": [
    "# Predict on test and train data\n",
    "y_pred_test_proba = lgbm.predict_proba(X_test)[:,1]\n",
    "y_pred_test_proba_cal = cal_lgbm.predict_proba(X_test)[:,1]\n",
    "y_pred_train_proba = lgbm.predict_proba(X_train)[:,1]\n",
    "y_pred_train_proba_cal = cal_lgbm.predict_proba(X_train)[:,1]"
   ]
  },
  {
   "cell_type": "code",
   "execution_count": null,
   "id": "080a2ac9",
   "metadata": {},
   "outputs": [],
   "source": [
    "# Measure ROC AUC\n",
    "from sklearn.metrics import precision_score, recall_score, f1_score, accuracy_score, roc_auc_score, plot_roc_curve\n",
    "metrics = {'roc_auc_score': roc_auc_score,}\n",
    "\n",
    "for name, metric in metrics.items():\n",
    "    print(f\"Test {name}: {metric(y_test, y_pred_test_proba)}\")\n",
    "    print(f\"Train {name}: {metric(y_train, y_pred_train_proba)}\")"
   ]
  },
  {
   "cell_type": "code",
   "execution_count": null,
   "id": "74d92000",
   "metadata": {},
   "outputs": [],
   "source": [
    "# Get Feature Importance\n",
    "feature_importance = {f:i for f, i in zip(lgbm.feature_name_, lgbm.feature_importances_)}\n",
    "feature_importance = {f:i/sum(i for i in feature_importance.values()) for f,i in feature_importance.items()}\n",
    "feature_importance = dict(sorted(feature_importance.items(), key=lambda item: item[1], reverse=True))\n",
    "feature_importance"
   ]
  },
  {
   "cell_type": "code",
   "execution_count": null,
   "id": "7fe74ab9",
   "metadata": {},
   "outputs": [],
   "source": [
    "# Plot Roc curve\n",
    "%matplotlib inline\n",
    "%matplotlib notebook\n",
    "plot_roc_curve(lgbm, X_test, y_test, color='red')\n",
    "plt.plot([0,1],[0,1],label='random',color='black')\n",
    "plt.legend()\n",
    "plt.grid()\n",
    "plt.show()"
   ]
  },
  {
   "cell_type": "code",
   "execution_count": null,
   "id": "4f4d8582",
   "metadata": {},
   "outputs": [],
   "source": [
    "# Calibrate\n",
    "%matplotlib inline\n",
    "%matplotlib notebook\n",
    "plt.hist(y_pred_test_proba,density=True)\n",
    "plt.hist(y_pred_train_proba,density=True, alpha=0.25)\n",
    "plt.hist(y_pred_test_proba_cal,density=True, alpha=0.25)\n",
    "plt.hist(y_pred_train_proba_cal,density=True, alpha=0.25)\n",
    "plt.show()"
   ]
  },
  {
   "cell_type": "code",
   "execution_count": null,
   "id": "1d4b85ad",
   "metadata": {},
   "outputs": [],
   "source": [
    "%matplotlib inline\n",
    "%matplotlib notebook\n",
    "from sklearn.calibration import calibration_curve\n",
    "prob_true, prob_pred = calibration_curve(y_train,y_pred_train_proba_cal,n_bins=20, strategy='uniform')\n",
    "max_proba = np.max([prob_pred.max(),prob_true.max()])\n",
    "\n",
    "plt.plot(prob_pred, prob_true,'-o',label='calibrated')\n",
    "prob_true, prob_pred = calibration_curve(y_train,y_pred_train_proba,n_bins=20,strategy='uniform')\n",
    "max_proba = np.max([prob_pred.max(),prob_true.max(),max_proba])\n",
    "\n",
    "plt.plot(prob_pred, prob_true,'-o',label='uncalibrated')\n",
    "plt.plot([0,max_proba],[0,max_proba],'--',label='random',color='black')\n",
    "plt.grid()\n",
    "plt.legend()\n",
    "plt.show()"
   ]
  },
  {
   "cell_type": "code",
   "execution_count": null,
   "id": "12d9dfac",
   "metadata": {},
   "outputs": [],
   "source": [
    "%matplotlib inline\n",
    "%matplotlib notebook\n",
    "from sklearn.calibration import calibration_curve\n",
    "prob_true, prob_pred = calibration_curve(y_test,y_pred_test_proba_cal,n_bins=12,strategy='uniform')\n",
    "max_proba = np.max([prob_pred.max(),prob_true.max()])\n",
    "plt.plot(prob_pred, prob_true,'-o',label='calibrated')\n",
    "prob_true, prob_pred = calibration_curve(y_test,y_pred_test_proba,n_bins=12,strategy='uniform')\n",
    "max_proba = np.max([prob_pred.max(),prob_true.max(),max_proba])\n",
    "plt.plot(prob_pred, prob_true,'-o',label='uncalibrated')\n",
    "plt.plot([0,max_proba],[0,max_proba],'--',label='random',color='black')\n",
    "plt.grid()\n",
    "plt.legend()\n",
    "plt.show()"
   ]
  },
  {
   "cell_type": "markdown",
   "id": "5563b86c",
   "metadata": {},
   "source": [
    "### Try with other Models:\n",
    "### We need to one-hot-encode columns"
   ]
  },
  {
   "cell_type": "code",
   "execution_count": null,
   "id": "7f82da8e",
   "metadata": {},
   "outputs": [],
   "source": [
    "df_ohe = df.drop(columns=high_cardinality_cols)"
   ]
  },
  {
   "cell_type": "code",
   "execution_count": null,
   "id": "54e61a2e",
   "metadata": {},
   "outputs": [],
   "source": [
    "df_ohe['is_male'] = df_ohe.Sexo == 'M'\n",
    "df_ohe = df_ohe.drop(columns=['Sexo'])"
   ]
  },
  {
   "cell_type": "code",
   "execution_count": null,
   "id": "aa1830bd",
   "metadata": {},
   "outputs": [],
   "source": [
    "## DO ONE HOT ENCODE FOR COLUMNS columns_ohe\n",
    "columns_ohe = [\"Descripcion\",\"Periodo_id\",\"idioma_id\",\"grado\",\"deschora\",\"TipoDeNivel\",\"Cursada_id\"]\n",
    "binary_ohe = [\"foreigner\",\"con_convenio\",\"is_male\"]"
   ]
  },
  {
   "cell_type": "code",
   "execution_count": null,
   "id": "f6b575d9",
   "metadata": {},
   "outputs": [],
   "source": [
    "for attr in binary_ohe: # avoid creating 2 columns for binary cases\n",
    "    df_ohe[attr] = df_ohe[attr].apply(lambda x: 1 if x else 0)"
   ]
  },
  {
   "cell_type": "code",
   "execution_count": null,
   "id": "be439a8f",
   "metadata": {},
   "outputs": [],
   "source": [
    "df_ohe = pd.get_dummies(df_ohe,columns=columns_ohe,prefix=columns_ohe)"
   ]
  },
  {
   "cell_type": "markdown",
   "id": "d9f6a157",
   "metadata": {},
   "source": [
    "### Train/Test split"
   ]
  },
  {
   "cell_type": "code",
   "execution_count": null,
   "id": "af425963",
   "metadata": {},
   "outputs": [],
   "source": [
    "label = 'bajadeasistencia'\n",
    "y = df_ohe[label].astype('int')\n",
    "X = df_ohe.drop(columns=[label])\n",
    "X_train, X_test, y_train, y_test = sklearn.model_selection.train_test_split(X, y, test_size=0.2)"
   ]
  },
  {
   "cell_type": "markdown",
   "id": "4e75c9a6",
   "metadata": {},
   "source": [
    "### Normalize age"
   ]
  },
  {
   "cell_type": "code",
   "execution_count": null,
   "id": "0cc285d1",
   "metadata": {},
   "outputs": [],
   "source": [
    "attr = 'estimated_age'\n",
    "age_mean, age_std = X_train[attr].mean(), X_train[attr].std()\n",
    "X_train[attr] = (X_train[attr]-age_mean)/age_std\n",
    "X_test[attr] = (X_test[attr]-age_mean)/age_std"
   ]
  },
  {
   "cell_type": "markdown",
   "id": "c1a8adf1",
   "metadata": {},
   "source": [
    "### Fit model"
   ]
  },
  {
   "cell_type": "code",
   "execution_count": null,
   "id": "0037d988",
   "metadata": {},
   "outputs": [],
   "source": [
    "from sklearn.ensemble import RandomForestClassifier\n",
    "from xgboost import XGBClassifier\n",
    "from sklearn.naive_bayes import GaussianNB\n",
    "from sklearn.svm import SVC\n",
    "from sklearn.linear_model import SGDClassifier\n",
    "from lightgbm import LGBMClassifier\n",
    "\n",
    "log_reg = sklearn.linear_model.LogisticRegression(solver = 'liblinear', max_iter=500, penalty='l1')\n",
    "random_forest = RandomForestClassifier(min_samples_leaf=5, max_depth=10)\n",
    "xgmodel = XGBClassifier(eta=0.3, gamma=0.2, max_depth=5, subsample=0.5,reg_alpha=10,reg_lambda=0)\n",
    "naive_bayes = GaussianNB()\n",
    "svm = SVC()\n",
    "sgd = SGDClassifier(loss=\"log_loss\", max_iter=1000, penalty=\"l2\")\n",
    "svm = SGDClassifier(loss=\"modified_huber\", max_iter=1000)\n",
    "lgbm = LGBMClassifier()"
   ]
  },
  {
   "cell_type": "code",
   "execution_count": null,
   "id": "6d7210ee",
   "metadata": {},
   "outputs": [],
   "source": [
    "model = xgmodel"
   ]
  },
  {
   "cell_type": "code",
   "execution_count": null,
   "id": "d473ea66",
   "metadata": {},
   "outputs": [],
   "source": [
    "model.fit(X_train, y_train)"
   ]
  },
  {
   "cell_type": "code",
   "execution_count": null,
   "id": "dea4e324",
   "metadata": {},
   "outputs": [],
   "source": [
    "y_pred_test_proba = model.predict_proba(X_test)[:,1]\n",
    "y_pred_train_proba = model.predict_proba(X_train)[:,1]"
   ]
  },
  {
   "cell_type": "markdown",
   "id": "84138014",
   "metadata": {},
   "source": [
    "### Score (Accuracy, Recall, Precision, F1score, ROC, AUC)"
   ]
  },
  {
   "cell_type": "code",
   "execution_count": null,
   "id": "6411fe62",
   "metadata": {},
   "outputs": [],
   "source": [
    "from sklearn.metrics import precision_score, recall_score, f1_score, accuracy_score, roc_auc_score\n",
    "metrics = {\n",
    "    'roc_auc_score': roc_auc_score,\n",
    "    #'accuracy_score': accuracy_score,\n",
    "    #'precision_score': precision_score,\n",
    "    #'recall_score': recall_score,\n",
    "    #f1_score': f1_score\n",
    "}"
   ]
  },
  {
   "cell_type": "code",
   "execution_count": null,
   "id": "38c52829",
   "metadata": {},
   "outputs": [],
   "source": [
    "# SGD\n",
    "for name, metric in metrics.items():\n",
    "    print(f\"Test {name}: {metric(y_test, y_pred_test_proba)}\")\n",
    "    print(f\"Train {name}: {metric(y_train, y_pred_train_proba)}\")"
   ]
  },
  {
   "cell_type": "code",
   "execution_count": null,
   "id": "68ab1703",
   "metadata": {},
   "outputs": [],
   "source": [
    "# SVM\n",
    "for name, metric in metrics.items():\n",
    "    print(f\"Test {name}: {metric(y_test, y_pred_test_proba)}\")\n",
    "    print(f\"Train {name}: {metric(y_train, y_pred_train_proba)}\")"
   ]
  },
  {
   "cell_type": "code",
   "execution_count": null,
   "id": "5e0b0d17",
   "metadata": {},
   "outputs": [],
   "source": [
    "# RF\n",
    "for name, metric in metrics.items():\n",
    "    print(f\"Test {name}: {metric(y_test, y_pred_test_proba)}\")\n",
    "    print(f\"Train {name}: {metric(y_train, y_pred_train_proba)}\")"
   ]
  },
  {
   "cell_type": "code",
   "execution_count": null,
   "id": "2b542e08",
   "metadata": {},
   "outputs": [],
   "source": [
    "# RF min_samples_leaf=5, min_samples_split=10, max_depth=5\n",
    "for name, metric in metrics.items():\n",
    "    print(f\"Test {name}: {metric(y_test, y_pred_test_proba)}\")\n",
    "    print(f\"Train {name}: {metric(y_train, y_pred_train_proba)}\")"
   ]
  },
  {
   "cell_type": "code",
   "execution_count": null,
   "id": "ff6ac414",
   "metadata": {},
   "outputs": [],
   "source": [
    "# RF min_samples_leaf=5, max_depth=10\n",
    "for name, metric in metrics.items():\n",
    "    print(f\"Test {name}: {metric(y_test, y_pred_test_proba)}\")\n",
    "    print(f\"Train {name}: {metric(y_train, y_pred_train_proba)}\")"
   ]
  },
  {
   "cell_type": "code",
   "execution_count": null,
   "id": "8ebde576",
   "metadata": {},
   "outputs": [],
   "source": [
    "# XGBoost\n",
    "for name, metric in metrics.items():\n",
    "    print(f\"Test {name}: {metric(y_test, y_pred_test_proba)}\")\n",
    "    print(f\"Train {name}: {metric(y_train, y_pred_train_proba)}\")"
   ]
  },
  {
   "cell_type": "code",
   "execution_count": null,
   "id": "86aed566",
   "metadata": {},
   "outputs": [],
   "source": [
    "feature_importance = {f:i for f, i in zip(model.feature_names_in_, model.feature_importances_)}\n",
    "feature_importance = {f:i/sum(i for i in feature_importance.values()) for f,i in feature_importance.items()}\n",
    "feature_importance = dict(sorted(feature_importance.items(), key=lambda item: item[1], reverse=True))\n",
    "feature_importance"
   ]
  },
  {
   "cell_type": "code",
   "execution_count": null,
   "id": "0bdb49e8",
   "metadata": {},
   "outputs": [],
   "source": [
    "# XGBoost eta=0.3, gamma=0.2, max_depth=5, subsample=0.5,reg_alpha=10,reg_lambda=0\n",
    "for name, metric in metrics.items():\n",
    "    print(f\"Test {name}: {metric(y_test, y_pred_test_proba)}\")\n",
    "    print(f\"Train {name}: {metric(y_train, y_pred_train_proba)}\")"
   ]
  },
  {
   "cell_type": "code",
   "execution_count": null,
   "id": "5053f059",
   "metadata": {},
   "outputs": [],
   "source": [
    "# Naive-Bayes\n",
    "for name, metric in metrics.items():\n",
    "    print(f\"Test {name}: {metric(y_test, y_pred_test_proba)}\")\n",
    "    print(f\"Train {name}: {metric(y_train, y_pred_train_proba)}\")"
   ]
  },
  {
   "cell_type": "markdown",
   "id": "e86f590e",
   "metadata": {},
   "source": [
    "## Random Forest seems to get the best results so far\n",
    "Let's do a grid search to look for the best parameters"
   ]
  },
  {
   "cell_type": "code",
   "execution_count": null,
   "id": "c0e3cb86",
   "metadata": {},
   "outputs": [],
   "source": [
    "from sklearn.model_selection import GridSearchCV\n",
    "#iris = datasets.load_iris()\n",
    "parameters = {'min_samples_leaf':(1,2,3,5,10,20), 'max_depth':(1,2,3,5,10,20)}\n",
    "rf = RandomForestClassifier()\n",
    "clf = GridSearchCV(rf, parameters, scoring='roc_auc')\n",
    "clf.fit(X, y)"
   ]
  },
  {
   "cell_type": "code",
   "execution_count": null,
   "id": "a97e7e8e",
   "metadata": {},
   "outputs": [],
   "source": [
    "clf.best_params_"
   ]
  },
  {
   "cell_type": "code",
   "execution_count": null,
   "id": "d22bd425",
   "metadata": {},
   "outputs": [],
   "source": [
    "roc_auc_score(y_test, clf.predict_proba(X_test)[:,1]), roc_auc_score(y_train, clf.predict_proba(X_train)[:,1])"
   ]
  },
  {
   "cell_type": "markdown",
   "id": "6a1b6536",
   "metadata": {},
   "source": [
    "## XGBoost Grid Search\n",
    "Let's do a grid search to look for the best parameters"
   ]
  },
  {
   "cell_type": "code",
   "execution_count": null,
   "id": "7abcb00c",
   "metadata": {},
   "outputs": [],
   "source": [
    "from sklearn.model_selection import GridSearchCV\n",
    "parameters = {'gamma':(0,1,10), 'max_depth':(1,2,5,10), 'subsample':(1,0.5), 'reg_alpha':(0,1,10), 'reg_lambda':(0,1,10)}\n",
    "xgb = XGBClassifier()\n",
    "clf = GridSearchCV(xgb, parameters, scoring='roc_auc')\n",
    "clf.fit(X, y)"
   ]
  },
  {
   "cell_type": "code",
   "execution_count": null,
   "id": "94d74a17",
   "metadata": {},
   "outputs": [],
   "source": [
    "clf.best_params_"
   ]
  },
  {
   "cell_type": "code",
   "execution_count": null,
   "id": "4fa2c86f",
   "metadata": {},
   "outputs": [],
   "source": [
    "roc_auc_score(y_test, clf.predict_proba(X_test)[:,1]), roc_auc_score(y_train, clf.predict_proba(X_train)[:,1])\n"
   ]
  },
  {
   "cell_type": "code",
   "execution_count": null,
   "id": "76ee6ec4",
   "metadata": {},
   "outputs": [],
   "source": []
  },
  {
   "cell_type": "code",
   "execution_count": null,
   "id": "cfba793e",
   "metadata": {},
   "outputs": [],
   "source": [
    "%matplotlib inline\n",
    "%matplotlib notebook\n",
    "df_raw[['estimated_age','edad']].plot(x='estimated_age', y='edad',style='o',alpha=0.05)"
   ]
  },
  {
   "cell_type": "code",
   "execution_count": null,
   "id": "fb777125",
   "metadata": {},
   "outputs": [],
   "source": [
    "baja_corr = df_ready.corr().bajadeasistencia"
   ]
  },
  {
   "cell_type": "code",
   "execution_count": null,
   "id": "01675a31",
   "metadata": {},
   "outputs": [],
   "source": [
    "baja_corr.foreigner# abs().sort_values().head(20)"
   ]
  },
  {
   "cell_type": "code",
   "execution_count": null,
   "id": "245a3644",
   "metadata": {},
   "outputs": [],
   "source": [
    "%matplotlib inline\n",
    "%matplotlib notebook\n",
    "df_ready[df_ready.bajadeasistencia==0].estimated_age.hist(alpha=0.5, density=True)\n",
    "df_ready[df_ready.bajadeasistencia==1].estimated_age.hist(alpha=0.5, density=True)"
   ]
  },
  {
   "cell_type": "code",
   "execution_count": null,
   "id": "7a418cbf",
   "metadata": {},
   "outputs": [],
   "source": [
    "df_ready.groupby('bajadeasistencia').mean()"
   ]
  },
  {
   "cell_type": "code",
   "execution_count": null,
   "id": "03496dff",
   "metadata": {},
   "outputs": [],
   "source": [
    "y_pred = model.predict(X_test)\n",
    "y_pred_proba = np.array([p[1] for p in model.predict_proba(X_test)])"
   ]
  },
  {
   "cell_type": "code",
   "execution_count": null,
   "id": "9be3d3e6",
   "metadata": {},
   "outputs": [],
   "source": [
    "dict('a':10)"
   ]
  }
 ],
 "metadata": {
  "kernelspec": {
   "display_name": "Python 3 (ipykernel)",
   "language": "python",
   "name": "python3"
  },
  "language_info": {
   "codemirror_mode": {
    "name": "ipython",
    "version": 3
   },
   "file_extension": ".py",
   "mimetype": "text/x-python",
   "name": "python",
   "nbconvert_exporter": "python",
   "pygments_lexer": "ipython3",
   "version": "3.8.10"
  }
 },
 "nbformat": 4,
 "nbformat_minor": 5
}
