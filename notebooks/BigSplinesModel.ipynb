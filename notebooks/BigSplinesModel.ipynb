{
 "cells": [
  {
   "cell_type": "code",
   "execution_count": null,
   "id": "7cbd95ad",
   "metadata": {},
   "outputs": [],
   "source": [
    "import pandas as pd\n",
    "import numpy as np\n",
    "from sklearn.linear_model import LinearRegression  \n",
    "import matplotlib.pyplot as plt\n",
    "import datetime as dt\n",
    "import pickle"
   ]
  },
  {
   "cell_type": "code",
   "execution_count": null,
   "id": "14a70105",
   "metadata": {},
   "outputs": [],
   "source": [
    "from utils import fractional_years"
   ]
  },
  {
   "cell_type": "markdown",
   "id": "d82dccf3",
   "metadata": {},
   "source": [
    "## Clean Data"
   ]
  },
  {
   "cell_type": "code",
   "execution_count": null,
   "id": "8f963201",
   "metadata": {},
   "outputs": [],
   "source": [
    "data_path = '../data'\n",
    "df_raw = pd.read_excel(f'{data_path}/inscriptos_2018_4_6.xlsx')"
   ]
  },
  {
   "cell_type": "code",
   "execution_count": null,
   "id": "b2ec02b4",
   "metadata": {},
   "outputs": [],
   "source": [
    "attrs = ['nrodocumento','FechaNacimiento']\n",
    "df = df_raw[attrs].copy() # Avoid Warnings about slice of a copy\n",
    "df.rename(columns = {'nrodocumento':'dni','FechaNacimiento':'birthdate'}, inplace=True)\n",
    "df['dni'] = df['dni'].astype(int)\n",
    "df['birthyear'] = df.birthdate.apply(fractional_years)\n",
    "df = df[(df.birthyear>1920)&(df.birthyear<2006)]\n",
    "df = df[(df.dni>1e6)&(df.dni<100e6)]\n",
    "df = df[df.birthyear!=2000]"
   ]
  },
  {
   "cell_type": "code",
   "execution_count": null,
   "id": "371dbc5f",
   "metadata": {},
   "outputs": [],
   "source": [
    "df2 = df.drop_duplicates().copy()\n",
    "df2.drop(columns=['birthdate'], inplace=True)"
   ]
  },
  {
   "cell_type": "code",
   "execution_count": null,
   "id": "2445cd14",
   "metadata": {},
   "outputs": [],
   "source": [
    "%matplotlib inline\n",
    "%matplotlib notebook\n",
    "df2.plot(x='dni', y='birthyear', style='o', color='black', alpha=0.05)"
   ]
  },
  {
   "cell_type": "markdown",
   "id": "b7d42b97",
   "metadata": {},
   "source": [
    "## Try with splines"
   ]
  },
  {
   "cell_type": "code",
   "execution_count": null,
   "id": "766e4277",
   "metadata": {},
   "outputs": [],
   "source": [
    "from sklearn.linear_model import Ridge\n",
    "from sklearn.preprocessing import PolynomialFeatures, SplineTransformer\n",
    "from sklearn.pipeline import make_pipeline"
   ]
  },
  {
   "cell_type": "code",
   "execution_count": null,
   "id": "62e2202b",
   "metadata": {},
   "outputs": [],
   "source": [
    "data = df2.copy()\n",
    "filtered_data = df2[df2.birthyear<1960+df2.dni*(2000-1960)/19e6] # Filter Noise\n",
    "knot_list = [3.5,4,5,6.7,7.4,8.8,10,15,18.7,18.8,18.9,19.05,19.2,20,30,40,46.8,46.9,47,47.1,60,90,91,92,93,94,95,96]\n",
    "knots = (np.array(knot_list)*1e6).reshape(-1, 1)\n",
    "data_sample = filtered_data.sample(int(filtered_data.shape[0]*1))\n",
    "data_sample = data_sample.sort_values('dni')\n",
    "bspline_model = make_pipeline(SplineTransformer(degree=3, knots=knots, extrapolation='constant'), Ridge(alpha=1e-3))\n",
    "bspline_model.fit(data_sample.dni.values.reshape(-1, 1), data_sample.birthyear.values.reshape(-1, 1))"
   ]
  },
  {
   "cell_type": "code",
   "execution_count": null,
   "id": "f08f643a",
   "metadata": {},
   "outputs": [],
   "source": [
    "%matplotlib notebook\n",
    "bspline_y_hat = bspline_model.predict(data.dni.values.reshape(-1,1)).reshape(-1)\n",
    "plt.plot(data.dni,data.birthyear,'o', color='black', alpha=0.1)\n",
    "plt.plot(data.dni, bspline_y_hat, 'o', color='red')"
   ]
  },
  {
   "cell_type": "code",
   "execution_count": null,
   "id": "2552fe67",
   "metadata": {},
   "outputs": [],
   "source": [
    "filename = 'mega_spline_model.pickle'\n",
    "pickle.dump(bspline_model, open(filename, 'wb'))"
   ]
  }
 ],
 "metadata": {
  "kernelspec": {
   "display_name": "Python 3 (ipykernel)",
   "language": "python",
   "name": "python3"
  },
  "language_info": {
   "codemirror_mode": {
    "name": "ipython",
    "version": 3
   },
   "file_extension": ".py",
   "mimetype": "text/x-python",
   "name": "python",
   "nbconvert_exporter": "python",
   "pygments_lexer": "ipython3",
   "version": "3.8.10"
  }
 },
 "nbformat": 4,
 "nbformat_minor": 5
}
